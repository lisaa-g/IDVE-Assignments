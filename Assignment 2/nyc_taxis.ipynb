{
 "cells": [
  {
   "cell_type": "markdown",
   "metadata": {},
   "source": [
    "# COMS4060A - Introduction of Data Visualisation & Exploration: Assignment 2 \n",
    "\n",
    "## Group Members\n",
    "* Lisa Godiwn - 2437980\n",
    "* Nihal Ranchod - 2427378\n",
    "* Zach Schwark - 2434346"
   ]
  },
  {
   "cell_type": "markdown",
   "metadata": {},
   "source": [
    "## Coding Practices\n",
    "\n",
    "- Dataframe `df` is the original data.\n",
    "- `df_copy` is a copy of the original dataframe `df` and is used only at the start of the data cleaning process in Question 1.\n",
    "- `df` used from Question 3 onwards is a new dataframe created by using a cleaned .csv file that is created at the end of Question 2. "
   ]
  },
  {
   "cell_type": "code",
   "execution_count": null,
   "metadata": {},
   "outputs": [],
   "source": [
    "import numpy as np\n",
    "import pandas as pd\n",
    "import matplotlib.pyplot as plt\n",
    "import seaborn as sns\n",
    "from geopy.distance import geodesic\n",
    "from datetime import datetime"
   ]
  },
  {
   "cell_type": "markdown",
   "metadata": {},
   "source": [
    "Reading in the .csv and creating a dataframe."
   ]
  },
  {
   "cell_type": "code",
   "execution_count": null,
   "metadata": {},
   "outputs": [],
   "source": [
    "df = pd.read_csv(\"./nyc_taxis/nyc_taxis.csv\")\n",
    "\n",
    "df_copy = df.copy()\n",
    "display(df_copy.head())"
   ]
  },
  {
   "cell_type": "markdown",
   "metadata": {},
   "source": [
    "### Question 1: Data Cleaning"
   ]
  },
  {
   "cell_type": "markdown",
   "metadata": {},
   "source": [
    "1. There are several outliers in the data. Identify these and give justification for why you can remove them from the analysis. (Hint: look at trip duration, speed, distance, etc).\n",
    "    1. Initial Exploration: Check for missing values, basic statistics, and unusual data points.\n",
    "    2. Outlier Detection Using Boxplots:\n",
    "        - **Trip Duration:** Create a boxplot to visualize the distribution of trip durations. Identify outliers as trips with durations significantly shorter or longer than the typical range, based on the Interquartile Range (IQR) method.\n",
    "        - **Distance Calculation:** Calculate the trip distance using the Haversine formula, which measures the great-circle distance between the pickup and dropoff locations. Use a boxplot to detect outliers in the trip distance data.\n",
    "        - **Speed Calculation:** Compute the average speed for each trip using the calculated distance and trip duration. Create a boxplot to identify trips with implausibly high or low speeds, indicating potential data entry errors or anomalies.\n",
    "    3. Remove Outliers: For each of the three variables (trip duration, distance, and speed), remove data points identified as outliers using the IQR method. Outliers are defined as values outside the range of `(Q1 - 1.5 x IQR)` and `(Q3 + 1.5 x IQR)` are the first and third quartiles, respectively."
   ]
  },
  {
   "cell_type": "markdown",
   "metadata": {},
   "source": [
    "Initial Exploration: Check for missing values, basic statistics, and unusual data points."
   ]
  },
  {
   "cell_type": "code",
   "execution_count": null,
   "metadata": {},
   "outputs": [],
   "source": [
    "display(df_copy.info())\n",
    "pd.set_option('display.float_format', '{:.3f}'.format)\n",
    "display(df_copy.describe())"
   ]
  },
  {
   "cell_type": "code",
   "execution_count": null,
   "metadata": {},
   "outputs": [],
   "source": [
    "missing_values = df_copy.isnull().sum()\n",
    "print(f'Missing values in each column: \\n{missing_values}')"
   ]
  },
  {
   "cell_type": "markdown",
   "metadata": {},
   "source": [
    "Trip Duration Outlier Detection"
   ]
  },
  {
   "cell_type": "code",
   "execution_count": null,
   "metadata": {},
   "outputs": [],
   "source": [
    "# Convert the trip duration to minutes\n",
    "df_copy['trip_duration_min'] = df_copy['trip_duration'] / 60\n",
    "display(df_copy[['trip_duration', 'trip_duration_min']].head())"
   ]
  },
  {
   "cell_type": "code",
   "execution_count": null,
   "metadata": {},
   "outputs": [],
   "source": [
    "# Plot the trip duration to visually inspect outliers\n",
    "plt.figure(figsize=(11, 7))\n",
    "sns.set_style('whitegrid')\n",
    "sns.boxplot(\n",
    "    x=df_copy[\"trip_duration_min\"],\n",
    "    color='red',\n",
    "    gap=0.25,\n",
    "    whis=2.5,\n",
    "    linecolor='black',\n",
    "    linewidth=1.5,\n",
    "    fliersize=4.5,\n",
    "    log_scale=True\n",
    ")\n",
    "\n",
    "plt.xlabel('Trip Duration (minutes)')\n",
    "plt.title('Boxplot of Trip Duration')\n",
    "plt.savefig('./Plots/Plots[1]/trip_duration_boxplot.png')\n",
    "plt.show()\n",
    "plt.clf()"
   ]
  },
  {
   "cell_type": "code",
   "execution_count": null,
   "metadata": {},
   "outputs": [],
   "source": [
    "# Define thresholds based on boxplot (IQR method)\n",
    "Q1_duration = df_copy['trip_duration_min'].quantile(0.25)\n",
    "Q3_duration = df_copy['trip_duration_min'].quantile(0.75)\n",
    "IQR_duration = Q3_duration - Q1_duration\n",
    "\n",
    "# Outliers are typically defined as points beyond 1.5 times the IQR\n",
    "lower_bound_duration = Q1_duration - 1.5 * IQR_duration\n",
    "upper_bound_duration = Q3_duration + 1.5 * IQR_duration\n",
    "\n",
    "print(f'Q1_duration: {Q1_duration}')\n",
    "print(f'Q3_duration: {Q3_duration}')\n",
    "print(f'IQR_duration: {IQR_duration}')\n",
    "print(f'Lower bound: {lower_bound_duration}')\n",
    "print(f'Upper bound: {upper_bound_duration}')\n",
    "\n",
    "# Number of entries before cleaning\n",
    "original_count = len(df_copy)\n",
    "\n",
    "# Remove outliers for trip duration\n",
    "df_cleaned = df_copy[(df_copy['trip_duration_min'] > lower_bound_duration) & (df_copy['trip_duration_min'] < upper_bound_duration)]\n",
    "\n",
    "# Number of entries after cleaning\n",
    "cleaned_count = len(df_cleaned)\n",
    "\n",
    "# Number of entries removed\n",
    "removed_count = original_count - cleaned_count\n",
    "\n",
    "print(f'Original number of entries: {original_count}')\n",
    "print(f'Number of entries after cleaning: {cleaned_count}')\n",
    "print(f'Number of entries removed: {removed_count}')"
   ]
  },
  {
   "cell_type": "markdown",
   "metadata": {},
   "source": [
    "Trip Distance Outlier Detection"
   ]
  },
  {
   "cell_type": "code",
   "execution_count": null,
   "metadata": {},
   "outputs": [],
   "source": [
    "# Calculate the distance between pickup and dropoff locations using Haversine formula\n",
    "def haversine_np(lon1, lat1, lon2, lat2):\n",
    "    lon1, lat1, lon2, lat2 = map(np.radians, [lon1, lat1, lon2, lat2])\n",
    "    dlon = lon2 - lon1\n",
    "    dlat = lat2 - lat1\n",
    "    a = np.sin(dlat/2.0)**2 + np.cos(lat1) * np.cos(lat2) * np.sin(dlon/2.0)**2\n",
    "    c = 2 * np.arcsin(np.sqrt(a))\n",
    "    km = 6367 * c\n",
    "    return km\n",
    "\n",
    "df_cleaned['trip_distance_km'] = haversine_np(df_cleaned['pickup_longitude'], df_cleaned['pickup_latitude'], df_cleaned['dropoff_longitude'], df_cleaned['dropoff_latitude'])\n",
    "\n",
    "display(df_cleaned[['pickup_longitude', 'pickup_latitude', 'dropoff_longitude', 'dropoff_latitude', 'trip_distance_km']].head())"
   ]
  },
  {
   "cell_type": "code",
   "execution_count": null,
   "metadata": {},
   "outputs": [],
   "source": [
    "# Plot the trip distance to visually inspect outliers\n",
    "plt.figure(figsize=(11, 7))\n",
    "sns.boxplot(\n",
    "    x=df_cleaned[\"trip_distance_km\"],\n",
    "    color='red',\n",
    "    gap=0.25,\n",
    "    whis=2.5,\n",
    "    linecolor='black',\n",
    "    linewidth=1.5,\n",
    "    fliersize=4.5,\n",
    "    log_scale=True\n",
    ")\n",
    "\n",
    "plt.xlabel('Trip Distance (km)')\n",
    "plt.title('Boxplot of Trip Distance')\n",
    "plt.savefig('./Plots/Plots[1]/trip_distance_boxplot.png')\n",
    "plt.show()\n",
    "plt.clf()"
   ]
  },
  {
   "cell_type": "code",
   "execution_count": null,
   "metadata": {},
   "outputs": [],
   "source": [
    "# Define thresholds based on boxplot (IQR method)\n",
    "Q1_distance = df_cleaned['trip_distance_km'].quantile(0.25)\n",
    "Q3_distance = df_cleaned['trip_distance_km'].quantile(0.75)\n",
    "IQR_distance = Q3_distance - Q1_distance\n",
    "\n",
    "lower_bound_distance = Q1_distance - 1.5 * IQR_distance\n",
    "upper_bound_distance = Q3_distance + 1.5 * IQR_distance\n",
    "\n",
    "print(f'Q1_distance: {Q1_distance}')\n",
    "print(f'Q3_distance: {Q3_distance}')\n",
    "print(f'IQR_distance: {IQR_distance}')\n",
    "print(f'Lower bound: {lower_bound_distance}')\n",
    "print(f'Upper bound: {upper_bound_distance}')\n",
    "\n",
    "# Number of entries before cleaning\n",
    "original_count = len(df_cleaned)\n",
    "\n",
    "# Remove outliers for trip distance\n",
    "df_cleaned = df_cleaned[(df_cleaned['trip_distance_km'] > lower_bound_distance) & (df_cleaned['trip_distance_km'] < upper_bound_distance)]\n",
    "\n",
    "# Number of entries after cleaning\n",
    "cleaned_count = len(df_cleaned)\n",
    "\n",
    "# Number of entries removed\n",
    "removed_count = original_count - cleaned_count\n",
    "\n",
    "print(f'Original number of entries: {original_count}')\n",
    "print(f'Number of entries after cleaning: {cleaned_count}')\n",
    "print(f'Number of entries removed: {removed_count}')"
   ]
  },
  {
   "cell_type": "markdown",
   "metadata": {},
   "source": [
    "Trip Speed Outlier Detection"
   ]
  },
  {
   "cell_type": "code",
   "execution_count": null,
   "metadata": {},
   "outputs": [],
   "source": [
    "df_cleaned['speed_kmh'] = df_cleaned['trip_distance_km'] / (df_cleaned['trip_duration'] / 3600)\n",
    "display(df_cleaned[['trip_distance_km', 'trip_duration', 'speed_kmh']].head())"
   ]
  },
  {
   "cell_type": "code",
   "execution_count": null,
   "metadata": {},
   "outputs": [],
   "source": [
    "# Plot the trip speed to visually inspect outliers\n",
    "plt.figure(figsize=(11, 7))\n",
    "sns.boxplot(\n",
    "    x=df_cleaned[\"speed_kmh\"],\n",
    "    color='red',\n",
    "    gap=0.25,\n",
    "    whis=2.5,\n",
    "    linecolor='black',\n",
    "    linewidth=1.5,\n",
    "    fliersize=4.5,\n",
    "    log_scale=True\n",
    ")\n",
    "\n",
    "plt.xlabel('Trip Speed (km/h)')\n",
    "plt.title('Boxplot of Trip Speed')\n",
    "plt.savefig('./Plots/Plots[1]/trip_speed_boxplot.png')\n",
    "plt.show()\n",
    "plt.clf()"
   ]
  },
  {
   "cell_type": "code",
   "execution_count": null,
   "metadata": {},
   "outputs": [],
   "source": [
    "# Define thresholds based on boxplot (IQR method)\n",
    "Q1_speed = df_cleaned['speed_kmh'].quantile(0.25)\n",
    "Q3_speed = df_cleaned['speed_kmh'].quantile(0.75)\n",
    "IQR_speed = Q3_speed - Q1_speed\n",
    "\n",
    "lower_bound_speed = Q1_speed - 1.5 * IQR_speed\n",
    "upper_bound_speed = Q3_speed + 1.5 * IQR_speed\n",
    "\n",
    "print(f'Q1_speed: {Q1_speed}')\n",
    "print(f'Q3_speed: {Q3_speed}')\n",
    "print(f'IQR_speed: {IQR_speed}')\n",
    "print(f'Lower bound: {lower_bound_speed}')\n",
    "print(f'Upper bound: {upper_bound_speed}')\n",
    "\n",
    "# Number of entries before cleaning\n",
    "original_count = len(df_cleaned)\n",
    "\n",
    "# Remove outliers for trip speed\n",
    "df_cleaned = df_cleaned[(df_cleaned['speed_kmh'] > lower_bound_speed) & (df_cleaned['speed_kmh'] < upper_bound_speed)]\n",
    "\n",
    "# Number of entries after cleaning\n",
    "cleaned_count = len(df_cleaned)\n",
    "\n",
    "# Number of entries removed\n",
    "removed_count = original_count - cleaned_count\n",
    "\n",
    "print(f'Original number of entries: {original_count}')\n",
    "print(f'Number of entries after cleaning: {cleaned_count}')\n",
    "print(f'Number of entries removed: {removed_count}')"
   ]
  },
  {
   "cell_type": "code",
   "execution_count": null,
   "metadata": {},
   "outputs": [],
   "source": [
    "# Final cleaned dataset\n",
    "print(\"Shape of cleaned dataset: \", df_cleaned.shape)\n",
    "display(df_cleaned.head())"
   ]
  },
  {
   "cell_type": "markdown",
   "metadata": {},
   "source": [
    "**Outlier Identification and Justification for Removal**\n",
    "\n",
    "**1. Trip Duration Outliers**\n",
    "\n",
    "- **Analysis**: \n",
    "  - The first and third quartiles (Q1 and Q3) of trip duration are approximately 6.62 minutes and 17.92 minutes, respectively, resulting in an Interquartile Range (IQR) of 11.3 minutes.\n",
    "  - Outliers were identified as trips with durations below the lower bound of -10.33 minutes or above the upper bound of 34.87 minutes. Since negative durations are not possible, only the upper bound was considered.\n",
    "  - **Results**: After applying this threshold, 74,220 entries were removed, reducing the dataset from 1,458,644 to 1,384,424 entries.\n",
    "\n",
    "- **Justification for Removal**:\n",
    "  - **Extreme durations**: Trips with durations significantly longer than the upper bound may result from data entry errors, traffic anomalies, or scenarios where the taxi meter was left running unintentionally. These extreme cases do not represent typical taxi trips and could distort the analysis of average trip times and patterns.\n",
    "\n",
    "**2. Trip Distance Outliers**\n",
    "\n",
    "- **Analysis**:\n",
    "  - The IQR for trip distance was calculated as 2.29 km, with Q1 at 1.20 km and Q3 at 3.48 km. The lower bound was -2.23 km (which is not physically possible) and the upper bound was 6.91 km.\n",
    "  - **Results**: Applying this threshold removed 107,692 entries, reducing the dataset further to 1,276,732 entries.\n",
    "\n",
    "- **Justification for Removal**:\n",
    "  - **Improbable distances**: Trips with distances far exceeding the upper bound may indicate unusually long journeys, possibly due to outliers in pickup/dropoff coordinates or GPS errors. These outliers could mislead any spatial analysis or skew results concerning the typical distance traveled in NYC.\n",
    "\n",
    "**3. Speed Outliers**\n",
    "\n",
    "- **Analysis**:\n",
    "  - For speed, the IQR was 7.49 km/h, with Q1 at 8.78 km/h and Q3 at 16.28 km/h, leading to a lower bound of -2.46 km/h (impossible for real trips) and an upper bound of 27.52 km/h.\n",
    "  - **Results**: This step removed 39,912 entries, leaving a final dataset of 1,236,820 entries.\n",
    "\n",
    "- **Justification for Removal**:\n",
    "  - **Unrealistic speeds**: Extremely high speeds may occur due to incorrect time or distance calculations, possibly indicating data errors or misrecorded trips. Similarly, very low speeds could result from trips that involved significant waiting time, or errors where the vehicle might not have moved but the trip was recorded. Removing these ensures that the analysis focuses on realistic driving conditions, leading to more accurate insights into traffic patterns and trip efficiency.\n",
    "\n",
    "**Summary**\n",
    "\n",
    "Outliers across trip duration, distance, and speed were systematically identified using boxplots and the IQR method. Removing these outliers is essential to maintain data integrity, representativeness, and statistical robustness in the analysis. The process ensures that the dataset accurately reflects typical taxi trips in NYC, enabling more reliable and meaningful conclusions from subsequent analyses."
   ]
  },
  {
   "cell_type": "markdown",
   "metadata": {},
   "source": [
    "### Question 2: Feature Engineering"
   ]
  },
  {
   "cell_type": "markdown",
   "metadata": {},
   "source": [
    "Generate additional columns for at least these features (but you’re welcome to add more!):\n",
    "- Distance of trip\n",
    "- Day of week\n",
    "- Average speed of trip"
   ]
  },
  {
   "cell_type": "markdown",
   "metadata": {},
   "source": [
    "Note: Distance of trip and average speed of trip were already calculated in the Data Cleaning steps in Question 1."
   ]
  },
  {
   "cell_type": "code",
   "execution_count": null,
   "metadata": {},
   "outputs": [],
   "source": [
    "display(df_cleaned[['trip_distance_km', 'speed_kmh']])"
   ]
  },
  {
   "cell_type": "code",
   "execution_count": null,
   "metadata": {},
   "outputs": [],
   "source": [
    "# Extract day of the week\n",
    "\n",
    "# Convert pickup and dropoff datetime columns to datetime objects\n",
    "df_cleaned['pickup_datetime'] = pd.to_datetime(df_cleaned['pickup_datetime'])\n",
    "df_cleaned['dropoff_datetime'] = pd.to_datetime(df_cleaned['dropoff_datetime'])\n",
    "\n",
    "# Extract day of the week (0=Monday, 6=Sunday)\n",
    "df_cleaned['day_of_week'] = df_cleaned['pickup_datetime'].dt.dayofweek\n",
    "\n",
    "# Map integer values to day names\n",
    "day_of_week_map = {\n",
    "    0: 'Monday',\n",
    "    1: 'Tuesday',\n",
    "    2: 'Wednesday',\n",
    "    3: 'Thursday',\n",
    "    4: 'Friday',\n",
    "    5: 'Saturday',\n",
    "    6: 'Sunday'\n",
    "}\n",
    "df_cleaned['day_of_week_str'] = df_cleaned['day_of_week'].map(day_of_week_map)\n",
    "\n",
    "# Additional feature: Extract hour of the day\n",
    "df_cleaned['pickup_hour'] = df_cleaned['pickup_datetime'].dt.hour\n",
    "\n",
    "# Additional feature: Time of day (morning, afternoon, evening)\n",
    "def time_of_day(hour):\n",
    "    if 5 <= hour < 12:\n",
    "        return 'Morning'\n",
    "    elif 12 <= hour < 17:\n",
    "        return 'Afternoon'\n",
    "    elif 17 <= hour < 21:\n",
    "        return 'Evening'\n",
    "    else:\n",
    "        return 'Night'\n",
    "\n",
    "df_cleaned['time_of_day'] = df_cleaned['pickup_hour'].apply(time_of_day)\n",
    "\n",
    "# All new features\n",
    "display(df_cleaned[['trip_distance_km', 'speed_kmh', 'day_of_week', 'day_of_week_str', 'pickup_hour', 'time_of_day']].head())\n",
    "\n",
    "# Save the cleaned and feature-enhanced DataFrame for further analysis\n",
    "df_cleaned.to_csv('./nyc_taxis/nyc_taxi_cleaned_with_features.csv', index=False)"
   ]
  },
  {
   "cell_type": "markdown",
   "metadata": {},
   "source": [
    "### Question 3: Time-based"
   ]
  },
  {
   "cell_type": "markdown",
   "metadata": {},
   "source": [
    "[3.1] Which day of the week is the most popular? Show plots to motivate your answer."
   ]
  },
  {
   "cell_type": "code",
   "execution_count": null,
   "metadata": {},
   "outputs": [],
   "source": [
    "# Read the cleaned dataset\n",
    "df = pd.read_csv('./nyc_taxis/nyc_taxi_cleaned_with_features.csv')\n",
    "\n",
    "day_of_week_counts = df['day_of_week'].value_counts().sort_index()\n",
    "days = ['Monday', 'Tuesday', 'Wednesday', 'Thursday', 'Friday', 'Saturday', 'Sunday']\n",
    "\n",
    "plt.figure(figsize=(11, 7))\n",
    "ax = sns.barplot(x=days, y=day_of_week_counts, hue=days, dodge=False, estimator=\"sum\", palette='viridis')\n",
    "\n",
    "# Add the total above each bar\n",
    "for p in ax.patches:\n",
    "    height = p.get_height()\n",
    "    ax.annotate(f'{height:.0f}', \n",
    "                (p.get_x() + p.get_width() / 2., height), \n",
    "                ha='center', va='center', \n",
    "                xytext=(0, 9), \n",
    "                textcoords='offset points')\n",
    "\n",
    "plt.xlabel('Day of the Week')\n",
    "plt.ylabel('Number of Trips')\n",
    "plt.title('Number of Trips per Day of the Week')\n",
    "plt.savefig('./Plots/Plots[3]/Plots[3.1]/num_of_trips_per_day_of_the_week.png')\n",
    "plt.show()\n",
    "plt.clf()"
   ]
  },
  {
   "cell_type": "markdown",
   "metadata": {},
   "source": [
    "Friday is the most popular day of the week."
   ]
  },
  {
   "cell_type": "markdown",
   "metadata": {},
   "source": [
    "[3.2] What hour of the day is the most popular on each day? Plot a distribution of the hours and make observations and give possible suggestions for why the data looks like it does."
   ]
  },
  {
   "cell_type": "code",
   "execution_count": null,
   "metadata": {},
   "outputs": [],
   "source": [
    "import os\n",
    "\n",
    "# Define the folder to save the plots\n",
    "output_folder = './Plots/Plots[3]/Plots[3.2]'\n",
    "os.makedirs(output_folder, exist_ok=True)\n",
    "\n",
    "# Define the days of the week\n",
    "days = ['Monday', 'Tuesday', 'Wednesday', 'Thursday', 'Friday', 'Saturday', 'Sunday']\n",
    "\n",
    "# Overall distribution of trips by hour and day of the week\n",
    "plt.figure(figsize=(16, 10))\n",
    "sns.countplot(data=df, x='pickup_hour', hue='day_of_week', palette='viridis')\n",
    "plt.xlabel('Hour of the Day')\n",
    "plt.ylabel('Number of Trips')\n",
    "plt.title('Distribution of Trips by Hour of the Day and Day of the Week')\n",
    "plt.legend(title='Day of Week', labels=days)\n",
    "plt.savefig(os.path.join(output_folder, 'trips_by_hour_of_the_day_and_day_of_the_week.png'))\n",
    "plt.show()\n",
    "plt.clf()\n",
    "\n",
    "# Print the most popular hour overall\n",
    "most_popular_hour_overall = df['pickup_hour'].mode()[0]\n",
    "print(f'The most popular hour overall is: {most_popular_hour_overall}')\n",
    "\n",
    "# Individual plots for each day of the week\n",
    "for i, day in enumerate(days):\n",
    "    plt.figure(figsize=(10, 6))\n",
    "    sns.countplot(data=df[df['day_of_week'] == i], x='pickup_hour', hue='pickup_hour', palette='viridis', legend=False)\n",
    "    plt.xlabel('Hour of the Day')\n",
    "    plt.ylabel('Number of Trips')\n",
    "    plt.title(f'Distribution of Trips by Hour on {day}')\n",
    "    plt.savefig(os.path.join(output_folder, f'trips_by_hour_on_{day.lower()}.png'))\n",
    "    plt.show()\n",
    "    plt.clf()\n",
    "    \n",
    "    # Print the most popular hour for each day\n",
    "    most_popular_hour = df[df['day_of_week'] == i]['pickup_hour'].mode()[0]\n",
    "    print(f'The most popular hour on {day} is: {most_popular_hour}')"
   ]
  },
  {
   "cell_type": "markdown",
   "metadata": {},
   "source": [
    "[3.3] Investigate the differences between weekdays and weekends. What would account for this? "
   ]
  },
  {
   "cell_type": "code",
   "execution_count": null,
   "metadata": {},
   "outputs": [],
   "source": [
    "# Create a new column indicating whether the day is a weekend\n",
    "df['is_weekend'] = df['day_of_week'].apply(lambda x: 1 if x >= 5 else 0)\n",
    "\n",
    "# Compare trips on weekdays vs weekends\n",
    "weekend_vs_weekday_counts = df['is_weekend'].value_counts()\n",
    "plt.figure(figsize=(8, 5))\n",
    "sns.barplot(x=['Weekday', 'Weekend'], y=weekend_vs_weekday_counts, hue=['Weekday', 'Weekend'], dodge=False, estimator=\"sum\", palette='viridis')\n",
    "plt.xlabel('Day Type')\n",
    "plt.ylabel('Number of Trips')\n",
    "plt.title('Number of Trips on Weekdays vs Weekends')\n",
    "plt.savefig('./Plots/Plots[3]/Plots[3.3]/num_trips_on_weekdays_vs_weekends.png')\n",
    "plt.show()\n",
    "plt.clf()"
   ]
  },
  {
   "cell_type": "markdown",
   "metadata": {},
   "source": [
    "[3.4] Look at how these patterns change on the major holidays (do they change?). Look at the following: St. Patrick’s Day, Easter, Memorial Day, Valentine’s Day, Martin Luther King Day. Make sure you use the correct dates for these for the relevant year."
   ]
  },
  {
   "cell_type": "code",
   "execution_count": null,
   "metadata": {},
   "outputs": [],
   "source": [
    "output_folder = \"./Plots/Plots[3]/Plots[3.4]\"\n",
    "\n",
    "# Define major holidays in 2016\n",
    "holidays_2016 = {\n",
    "    'St. Patrick\\'s Day': '2016-03-17',\n",
    "    'Easter': '2016-03-27',\n",
    "    'Memorial Day': '2016-05-30',\n",
    "    'Valentine\\'s Day': '2016-02-14',\n",
    "    'Martin Luther King Day': '2016-01-18'\n",
    "}\n",
    "\n",
    "# Convert holiday dates to datetime objects\n",
    "holiday_dates = pd.to_datetime(list(holidays_2016.values()))\n",
    "\n",
    "df['pickup_datetime'] = pd.to_datetime(df['pickup_datetime'])\n",
    "df['dropoff_datetime'] = pd.to_datetime(df['dropoff_datetime'])\n",
    "\n",
    "# Create a new column indicating whether the trip occurred on a major holiday\n",
    "df['is_holiday'] = df['pickup_datetime'].dt.normalize().isin(holiday_dates)\n",
    "\n",
    "# Compare trip counts on holidays vs non-holidays\n",
    "holiday_vs_nonholiday_counts = df['is_holiday'].value_counts()\n",
    "plt.figure(figsize=(8, 5))\n",
    "sns.barplot(x=['Non-Holiday', 'Holiday'], y=holiday_vs_nonholiday_counts, hue=['Non-Holiday', 'Holiday'], dodge=False, estimator=\"sum\", palette='viridis')\n",
    "plt.xlabel('Day Type')\n",
    "plt.ylabel('Number of Trips')\n",
    "plt.title('Number of Trips on Holidays vs Non-Holidays')\n",
    "# Save the figure\n",
    "plt.savefig(os.path.join(output_folder, \"trips_holidays_vs_nonholidays.png\"))\n",
    "plt.show()\n",
    "\n",
    "# Analyze differences during holidays\n",
    "for holiday, date in holidays_2016.items():\n",
    "    holiday_data = df[df['pickup_datetime'].dt.date == pd.to_datetime(date).date()]\n",
    "    \n",
    "    # Compare with the same day of the week\n",
    "    day_of_week = pd.to_datetime(date).weekday()\n",
    "    weekday_data = df[(df['day_of_week'] == day_of_week) & (~df['is_holiday'])]\n",
    "\n",
    "    plt.figure(figsize=(10, 6))\n",
    "    sns.countplot(data=holiday_data, x='pickup_hour', hue='pickup_hour', legend=False, palette='viridis')\n",
    "    plt.xlabel('Hour of the Day')\n",
    "    plt.ylabel('Number of Trips')\n",
    "    plt.title(f'Hourly Distribution of Trips on {holiday}')\n",
    "    plt.savefig(os.path.join(output_folder, f\"{holiday.replace(' ', '_').lower()}_hourly_distribution.png\"))\n",
    "    plt.show()\n",
    "\n",
    "    # Compare to same day of week on non-holidays\n",
    "    plt.figure(figsize=(10, 6))\n",
    "    sns.countplot(data=weekday_data, x='pickup_hour', hue='pickup_hour', legend=False, palette='magma')\n",
    "    plt.xlabel('Hour of the Day')\n",
    "    plt.ylabel('Number of Trips')\n",
    "    plt.title(f'Hourly Distribution of Trips on the same weekday as {holiday} for a regular non-holiday.')\n",
    "    plt.savefig(os.path.join(output_folder, f\"regular_{holiday.split()[0].lower()}_hourly_distribution.png\"))\n",
    "    plt.show()\n",
    "\n",
    "    # Step 6: Cumulative distribution function (CDF)\n",
    "    combined_data = pd.concat([holiday_data.assign(DayType=holiday), weekday_data.assign(DayType='Regular Day')])\n",
    "\n",
    "    plt.figure(figsize=(12, 6))\n",
    "    sns.ecdfplot(data=combined_data, x='pickup_hour', hue='DayType', palette='Set1')\n",
    "    plt.xlabel('Hour of the Day')\n",
    "    plt.ylabel('Cumulative Distribution')\n",
    "    plt.title(f'Cumulative Distribution of Trips on the same weekday as {holiday} for a regular non-holiday.')\n",
    "    plt.savefig(os.path.join(output_folder, f\"cdf_{holiday.replace(' ', '_').lower()}_vs_regular.png\"))\n",
    "    plt.show()\n",
    "\n",
    "    plt.clf()\n",
    "\n",
    "# Holiday vs. Non-Holiday Cumulative Distribution\n",
    "plt.figure(figsize=(10, 6))\n",
    "sns.ecdfplot(data=df, x='pickup_hour', hue='is_holiday', palette='mako')\n",
    "plt.xlabel('Hour of the Day')\n",
    "plt.ylabel('Cumulative Distribution')\n",
    "plt.title('Cumulative Distribution of Trips on Holidays vs Non-Holidays')\n",
    "plt.legend(title='Is Holiday', labels=['Non-Holiday', 'Holiday'])\n",
    "plt.savefig(os.path.join(output_folder, \"cdf_holidays_vs_nonholidays.png\"))\n",
    "plt.show()"
   ]
  },
  {
   "cell_type": "markdown",
   "metadata": {},
   "source": [
    "[3.5] How does the average speed of trips change throughout the day? What time of day are trips fastest? Show plots to motivate your answer."
   ]
  },
  {
   "cell_type": "markdown",
   "metadata": {},
   "source": [
    "**Steps:**\n",
    "- Calculate Average Speed per Hour: Group the data by the hour of the day and calculate the mean speed for each hour.\n",
    "- Plot the Average Speed: Create a line plot to visualize how average speed changes throughout the day.\n",
    "- Identify the Fastest Time of Day: Highlight the hour(s) where the average speed is the highest."
   ]
  },
  {
   "cell_type": "code",
   "execution_count": null,
   "metadata": {},
   "outputs": [],
   "source": [
    "# Calculate the average speed per hour\n",
    "avg_speed_per_hour = df.groupby('pickup_hour')['speed_kmh'].mean()\n",
    "\n",
    "# Step 2: Plot the average speed throughout the day\n",
    "plt.figure(figsize=(12, 6))\n",
    "sns.lineplot(x=avg_speed_per_hour.index, y=avg_speed_per_hour.values, marker='o')\n",
    "plt.xlabel('Hour of the Day')\n",
    "plt.ylabel('Average Speed (km/h)')\n",
    "plt.title('Average Speed of Trips Throughout the Day')\n",
    "plt.xticks(range(0, 24))  # Ensuring all hours are shown on the x-axis\n",
    "plt.grid(True)\n",
    "\n",
    "# Highlight the hour(s) with the highest average speed\n",
    "fastest_hour = avg_speed_per_hour.idxmax()\n",
    "fastest_speed = avg_speed_per_hour.max()\n",
    "plt.axvline(x=fastest_hour, color='red', linestyle='--', label=f'Fastest Hour: {fastest_hour}h, {fastest_speed:.2f} km/h')\n",
    "plt.legend()\n",
    "\n",
    "plt.savefig('./Plots/Plots[3]/Plots[3.5]/average_speed_throughout_day.png')\n",
    "\n",
    "plt.show()\n",
    "plt.clf()\n",
    "\n",
    "print(f\"The fastest time of day is around {fastest_hour}:00 with an average speed of {fastest_speed:.2f} km/h.\")\n"
   ]
  }
 ],
 "metadata": {
  "kernelspec": {
   "display_name": "Python 3",
   "language": "python",
   "name": "python3"
  },
  "language_info": {
   "codemirror_mode": {
    "name": "ipython",
    "version": 3
   },
   "file_extension": ".py",
   "mimetype": "text/x-python",
   "name": "python",
   "nbconvert_exporter": "python",
   "pygments_lexer": "ipython3",
   "version": "3.10.5"
  }
 },
 "nbformat": 4,
 "nbformat_minor": 2
}
