{
 "cells": [
  {
   "cell_type": "markdown",
   "metadata": {},
   "source": [
    "# COMS4060A - Introduction of Data Visualisation & Exploration: Assignment 3\n",
    "\n",
    "## Group Members\n",
    "* Lisa Godiwn - 2437980\n",
    "* Nihal Ranchod - 2427378\n",
    "* Zach Schwark - 2434346"
   ]
  },
  {
   "cell_type": "markdown",
   "metadata": {},
   "source": [
    "Imports"
   ]
  },
  {
   "cell_type": "code",
   "execution_count": 69,
   "metadata": {},
   "outputs": [],
   "source": [
    "import numpy as np\n",
    "import pandas as pd\n",
    "import matplotlib.pyplot as plt\n",
    "import seaborn as sns"
   ]
  },
  {
   "cell_type": "markdown",
   "metadata": {},
   "source": [
    "Dataset: NBA player statisitcs for the 2022-2023 regular season\n",
    "\n",
    "Reading in the .csv file and creating a dataframe."
   ]
  },
  {
   "cell_type": "code",
   "execution_count": 70,
   "metadata": {},
   "outputs": [
    {
     "data": {
      "text/html": [
       "<div>\n",
       "<style scoped>\n",
       "    .dataframe tbody tr th:only-of-type {\n",
       "        vertical-align: middle;\n",
       "    }\n",
       "\n",
       "    .dataframe tbody tr th {\n",
       "        vertical-align: top;\n",
       "    }\n",
       "\n",
       "    .dataframe thead th {\n",
       "        text-align: right;\n",
       "    }\n",
       "</style>\n",
       "<table border=\"1\" class=\"dataframe\">\n",
       "  <thead>\n",
       "    <tr style=\"text-align: right;\">\n",
       "      <th></th>\n",
       "      <th>Unnamed: 0</th>\n",
       "      <th>Player Name</th>\n",
       "      <th>Salary</th>\n",
       "      <th>Position</th>\n",
       "      <th>Age</th>\n",
       "      <th>Team</th>\n",
       "      <th>GP</th>\n",
       "      <th>GS</th>\n",
       "      <th>MP</th>\n",
       "      <th>FG</th>\n",
       "      <th>...</th>\n",
       "      <th>TOV%</th>\n",
       "      <th>USG%</th>\n",
       "      <th>OWS</th>\n",
       "      <th>DWS</th>\n",
       "      <th>WS</th>\n",
       "      <th>WS/48</th>\n",
       "      <th>OBPM</th>\n",
       "      <th>DBPM</th>\n",
       "      <th>BPM</th>\n",
       "      <th>VORP</th>\n",
       "    </tr>\n",
       "  </thead>\n",
       "  <tbody>\n",
       "    <tr>\n",
       "      <th>0</th>\n",
       "      <td>0</td>\n",
       "      <td>Stephen Curry</td>\n",
       "      <td>48070014</td>\n",
       "      <td>PG</td>\n",
       "      <td>34</td>\n",
       "      <td>GSW</td>\n",
       "      <td>56</td>\n",
       "      <td>56</td>\n",
       "      <td>34.7</td>\n",
       "      <td>10.0</td>\n",
       "      <td>...</td>\n",
       "      <td>12.5</td>\n",
       "      <td>31.0</td>\n",
       "      <td>5.8</td>\n",
       "      <td>2.0</td>\n",
       "      <td>7.8</td>\n",
       "      <td>0.192</td>\n",
       "      <td>7.5</td>\n",
       "      <td>0.1</td>\n",
       "      <td>7.5</td>\n",
       "      <td>4.7</td>\n",
       "    </tr>\n",
       "    <tr>\n",
       "      <th>1</th>\n",
       "      <td>1</td>\n",
       "      <td>John Wall</td>\n",
       "      <td>47345760</td>\n",
       "      <td>PG</td>\n",
       "      <td>32</td>\n",
       "      <td>LAC</td>\n",
       "      <td>34</td>\n",
       "      <td>3</td>\n",
       "      <td>22.2</td>\n",
       "      <td>4.1</td>\n",
       "      <td>...</td>\n",
       "      <td>17.1</td>\n",
       "      <td>27.0</td>\n",
       "      <td>-0.4</td>\n",
       "      <td>0.7</td>\n",
       "      <td>0.3</td>\n",
       "      <td>0.020</td>\n",
       "      <td>-0.8</td>\n",
       "      <td>-0.4</td>\n",
       "      <td>-1.2</td>\n",
       "      <td>0.1</td>\n",
       "    </tr>\n",
       "    <tr>\n",
       "      <th>2</th>\n",
       "      <td>2</td>\n",
       "      <td>Russell Westbrook</td>\n",
       "      <td>47080179</td>\n",
       "      <td>PG</td>\n",
       "      <td>34</td>\n",
       "      <td>LAL/LAC</td>\n",
       "      <td>73</td>\n",
       "      <td>24</td>\n",
       "      <td>29.1</td>\n",
       "      <td>5.9</td>\n",
       "      <td>...</td>\n",
       "      <td>18.4</td>\n",
       "      <td>27.7</td>\n",
       "      <td>-0.6</td>\n",
       "      <td>2.6</td>\n",
       "      <td>1.9</td>\n",
       "      <td>0.044</td>\n",
       "      <td>0.3</td>\n",
       "      <td>-0.1</td>\n",
       "      <td>0.2</td>\n",
       "      <td>1.2</td>\n",
       "    </tr>\n",
       "    <tr>\n",
       "      <th>3</th>\n",
       "      <td>3</td>\n",
       "      <td>LeBron James</td>\n",
       "      <td>44474988</td>\n",
       "      <td>PF</td>\n",
       "      <td>38</td>\n",
       "      <td>LAL</td>\n",
       "      <td>55</td>\n",
       "      <td>54</td>\n",
       "      <td>35.5</td>\n",
       "      <td>11.1</td>\n",
       "      <td>...</td>\n",
       "      <td>11.6</td>\n",
       "      <td>33.3</td>\n",
       "      <td>3.2</td>\n",
       "      <td>2.4</td>\n",
       "      <td>5.6</td>\n",
       "      <td>0.138</td>\n",
       "      <td>5.5</td>\n",
       "      <td>0.6</td>\n",
       "      <td>6.1</td>\n",
       "      <td>4.0</td>\n",
       "    </tr>\n",
       "    <tr>\n",
       "      <th>4</th>\n",
       "      <td>4</td>\n",
       "      <td>Kevin Durant</td>\n",
       "      <td>44119845</td>\n",
       "      <td>PF</td>\n",
       "      <td>34</td>\n",
       "      <td>BRK/PHO</td>\n",
       "      <td>47</td>\n",
       "      <td>47</td>\n",
       "      <td>35.6</td>\n",
       "      <td>10.3</td>\n",
       "      <td>...</td>\n",
       "      <td>13.4</td>\n",
       "      <td>30.7</td>\n",
       "      <td>4.7</td>\n",
       "      <td>2.1</td>\n",
       "      <td>6.8</td>\n",
       "      <td>0.194</td>\n",
       "      <td>6.0</td>\n",
       "      <td>1.2</td>\n",
       "      <td>7.1</td>\n",
       "      <td>3.9</td>\n",
       "    </tr>\n",
       "  </tbody>\n",
       "</table>\n",
       "<p>5 rows × 52 columns</p>\n",
       "</div>"
      ],
      "text/plain": [
       "   Unnamed: 0        Player Name    Salary Position  Age     Team  GP  GS  \\\n",
       "0           0      Stephen Curry  48070014       PG   34      GSW  56  56   \n",
       "1           1          John Wall  47345760       PG   32      LAC  34   3   \n",
       "2           2  Russell Westbrook  47080179       PG   34  LAL/LAC  73  24   \n",
       "3           3       LeBron James  44474988       PF   38      LAL  55  54   \n",
       "4           4       Kevin Durant  44119845       PF   34  BRK/PHO  47  47   \n",
       "\n",
       "     MP    FG  ...  TOV%  USG%  OWS  DWS   WS  WS/48  OBPM  DBPM  BPM  VORP  \n",
       "0  34.7  10.0  ...  12.5  31.0  5.8  2.0  7.8  0.192   7.5   0.1  7.5   4.7  \n",
       "1  22.2   4.1  ...  17.1  27.0 -0.4  0.7  0.3  0.020  -0.8  -0.4 -1.2   0.1  \n",
       "2  29.1   5.9  ...  18.4  27.7 -0.6  2.6  1.9  0.044   0.3  -0.1  0.2   1.2  \n",
       "3  35.5  11.1  ...  11.6  33.3  3.2  2.4  5.6  0.138   5.5   0.6  6.1   4.0  \n",
       "4  35.6  10.3  ...  13.4  30.7  4.7  2.1  6.8  0.194   6.0   1.2  7.1   3.9  \n",
       "\n",
       "[5 rows x 52 columns]"
      ]
     },
     "metadata": {},
     "output_type": "display_data"
    }
   ],
   "source": [
    "df_stats = pd.read_csv('nba_2022-23_stats.csv')\n",
    "\n",
    "df_stats_copy = df_stats.copy()\n",
    "display(df_stats_copy.head())"
   ]
  },
  {
   "cell_type": "markdown",
   "metadata": {},
   "source": [
    "### Question 1: Data Cleaning"
   ]
  },
  {
   "cell_type": "markdown",
   "metadata": {},
   "source": [
    "Data Inspection"
   ]
  },
  {
   "cell_type": "code",
   "execution_count": 71,
   "metadata": {},
   "outputs": [
    {
     "name": "stdout",
     "output_type": "stream",
     "text": [
      "<class 'pandas.core.frame.DataFrame'>\n",
      "RangeIndex: 467 entries, 0 to 466\n",
      "Data columns (total 52 columns):\n",
      " #   Column         Non-Null Count  Dtype  \n",
      "---  ------         --------------  -----  \n",
      " 0   Unnamed: 0     467 non-null    int64  \n",
      " 1   Player Name    467 non-null    object \n",
      " 2   Salary         467 non-null    int64  \n",
      " 3   Position       467 non-null    object \n",
      " 4   Age            467 non-null    int64  \n",
      " 5   Team           467 non-null    object \n",
      " 6   GP             467 non-null    int64  \n",
      " 7   GS             467 non-null    int64  \n",
      " 8   MP             467 non-null    float64\n",
      " 9   FG             467 non-null    float64\n",
      " 10  FGA            467 non-null    float64\n",
      " 11  FG%            466 non-null    float64\n",
      " 12  3P             467 non-null    object \n",
      " 13  3PA            467 non-null    float64\n",
      " 14  3P%            454 non-null    float64\n",
      " 15  2P             467 non-null    float64\n",
      " 16  2PA            467 non-null    float64\n",
      " 17  2P%            463 non-null    float64\n",
      " 18  eFG%           466 non-null    float64\n",
      " 19  FT             467 non-null    float64\n",
      " 20  FTA            467 non-null    float64\n",
      " 21  FT%            444 non-null    float64\n",
      " 22  ORB            467 non-null    float64\n",
      " 23  DRB            467 non-null    float64\n",
      " 24  TRB            467 non-null    float64\n",
      " 25  AST            467 non-null    float64\n",
      " 26  STL            467 non-null    float64\n",
      " 27  BLK            467 non-null    float64\n",
      " 28  TOV            467 non-null    float64\n",
      " 29  PF             467 non-null    float64\n",
      " 30  PTS            467 non-null    float64\n",
      " 31  Total Minutes  467 non-null    int64  \n",
      " 32  PER            467 non-null    float64\n",
      " 33  TS%            466 non-null    float64\n",
      " 34  3PAr           466 non-null    float64\n",
      " 35  FTr            466 non-null    float64\n",
      " 36  ORB%           467 non-null    float64\n",
      " 37  DRB%           467 non-null    float64\n",
      " 38  TRB%           467 non-null    float64\n",
      " 39  AST%           467 non-null    float64\n",
      " 40  STL%           467 non-null    float64\n",
      " 41  BLK%           467 non-null    float64\n",
      " 42  TOV%           467 non-null    float64\n",
      " 43  USG%           467 non-null    float64\n",
      " 44  OWS            467 non-null    float64\n",
      " 45  DWS            467 non-null    float64\n",
      " 46  WS             467 non-null    float64\n",
      " 47  WS/48          467 non-null    float64\n",
      " 48  OBPM           467 non-null    float64\n",
      " 49  DBPM           467 non-null    float64\n",
      " 50  BPM            467 non-null    float64\n",
      " 51  VORP           467 non-null    float64\n",
      "dtypes: float64(42), int64(6), object(4)\n",
      "memory usage: 189.8+ KB\n"
     ]
    }
   ],
   "source": [
    "# Display the info of the DataFrame\n",
    "df_stats_copy.info()"
   ]
  },
  {
   "cell_type": "markdown",
   "metadata": {},
   "source": [
    "**Noticed:**\n",
    "- First column in labeled `Unnamed`\n",
    "- Column `3P (3-Point Field Goals Per Game)` is of datatype `object`"
   ]
  },
  {
   "cell_type": "code",
   "execution_count": 72,
   "metadata": {},
   "outputs": [
    {
     "name": "stdout",
     "output_type": "stream",
     "text": [
      "<class 'pandas.core.frame.DataFrame'>\n",
      "RangeIndex: 467 entries, 0 to 466\n",
      "Data columns (total 52 columns):\n",
      " #   Column         Non-Null Count  Dtype  \n",
      "---  ------         --------------  -----  \n",
      " 0   Rank           467 non-null    int64  \n",
      " 1   Player Name    467 non-null    object \n",
      " 2   Salary         467 non-null    int64  \n",
      " 3   Position       467 non-null    object \n",
      " 4   Age            467 non-null    int64  \n",
      " 5   Team           467 non-null    object \n",
      " 6   GP             467 non-null    int64  \n",
      " 7   GS             467 non-null    int64  \n",
      " 8   MP             467 non-null    float64\n",
      " 9   FG             467 non-null    float64\n",
      " 10  FGA            467 non-null    float64\n",
      " 11  FG%            466 non-null    float64\n",
      " 12  3P             466 non-null    float64\n",
      " 13  3PA            467 non-null    float64\n",
      " 14  3P%            454 non-null    float64\n",
      " 15  2P             467 non-null    float64\n",
      " 16  2PA            467 non-null    float64\n",
      " 17  2P%            463 non-null    float64\n",
      " 18  eFG%           466 non-null    float64\n",
      " 19  FT             467 non-null    float64\n",
      " 20  FTA            467 non-null    float64\n",
      " 21  FT%            444 non-null    float64\n",
      " 22  ORB            467 non-null    float64\n",
      " 23  DRB            467 non-null    float64\n",
      " 24  TRB            467 non-null    float64\n",
      " 25  AST            467 non-null    float64\n",
      " 26  STL            467 non-null    float64\n",
      " 27  BLK            467 non-null    float64\n",
      " 28  TOV            467 non-null    float64\n",
      " 29  PF             467 non-null    float64\n",
      " 30  PTS            467 non-null    float64\n",
      " 31  Total Minutes  467 non-null    int64  \n",
      " 32  PER            467 non-null    float64\n",
      " 33  TS%            466 non-null    float64\n",
      " 34  3PAr           466 non-null    float64\n",
      " 35  FTr            466 non-null    float64\n",
      " 36  ORB%           467 non-null    float64\n",
      " 37  DRB%           467 non-null    float64\n",
      " 38  TRB%           467 non-null    float64\n",
      " 39  AST%           467 non-null    float64\n",
      " 40  STL%           467 non-null    float64\n",
      " 41  BLK%           467 non-null    float64\n",
      " 42  TOV%           467 non-null    float64\n",
      " 43  USG%           467 non-null    float64\n",
      " 44  OWS            467 non-null    float64\n",
      " 45  DWS            467 non-null    float64\n",
      " 46  WS             467 non-null    float64\n",
      " 47  WS/48          467 non-null    float64\n",
      " 48  OBPM           467 non-null    float64\n",
      " 49  DBPM           467 non-null    float64\n",
      " 50  BPM            467 non-null    float64\n",
      " 51  VORP           467 non-null    float64\n",
      "dtypes: float64(43), int64(6), object(3)\n",
      "memory usage: 189.8+ KB\n"
     ]
    }
   ],
   "source": [
    "# Change Unnamed column to Rank\n",
    "\n",
    "# Rename the 'Unnamed: 0' column to 'Rank'\n",
    "df_stats_copy.rename(columns={'Unnamed: 0': 'Rank'}, inplace=True)\n",
    "\n",
    "# Convert the '3P' column to float64\n",
    "df_stats_copy['3P'] = pd.to_numeric(df_stats_copy['3P'], errors='coerce')\n",
    "df_stats_copy['3P'] = df_stats_copy['3P'].astype('float64')\n",
    "\n",
    "df_stats_copy.info(['Rank', '3P'])"
   ]
  },
  {
   "cell_type": "code",
   "execution_count": 73,
   "metadata": {},
   "outputs": [
    {
     "data": {
      "text/plain": [
       "Rank              0\n",
       "Player Name       0\n",
       "Salary            0\n",
       "Position          0\n",
       "Age               0\n",
       "Team              0\n",
       "GP                0\n",
       "GS                0\n",
       "MP                0\n",
       "FG                0\n",
       "FGA               0\n",
       "FG%               1\n",
       "3P                1\n",
       "3PA               0\n",
       "3P%              13\n",
       "2P                0\n",
       "2PA               0\n",
       "2P%               4\n",
       "eFG%              1\n",
       "FT                0\n",
       "FTA               0\n",
       "FT%              23\n",
       "ORB               0\n",
       "DRB               0\n",
       "TRB               0\n",
       "AST               0\n",
       "STL               0\n",
       "BLK               0\n",
       "TOV               0\n",
       "PF                0\n",
       "PTS               0\n",
       "Total Minutes     0\n",
       "PER               0\n",
       "TS%               1\n",
       "3PAr              1\n",
       "FTr               1\n",
       "ORB%              0\n",
       "DRB%              0\n",
       "TRB%              0\n",
       "AST%              0\n",
       "STL%              0\n",
       "BLK%              0\n",
       "TOV%              0\n",
       "USG%              0\n",
       "OWS               0\n",
       "DWS               0\n",
       "WS                0\n",
       "WS/48             0\n",
       "OBPM              0\n",
       "DBPM              0\n",
       "BPM               0\n",
       "VORP              0\n",
       "dtype: int64"
      ]
     },
     "execution_count": 73,
     "metadata": {},
     "output_type": "execute_result"
    }
   ],
   "source": [
    "# Check for missing values\n",
    "df_stats_copy.isnull().sum()"
   ]
  },
  {
   "cell_type": "markdown",
   "metadata": {},
   "source": [
    "**Missing Values:**\n",
    "- `FG%` -> 1 value missing\n",
    "- `3P` -> 1 value missing\n",
    "- `3P%` -> 13 values missing\n",
    "- `2P%` -> 4 values missing\n",
    "- `eFG%` -> 1 value missing\n",
    "- `FT%` -> 23 values missing\n",
    "- `TS%` -> 1 value missing\n",
    "- `3PAr` -> 1 value missing\n",
    "- `FTr` -> 1 value missing"
   ]
  },
  {
   "cell_type": "markdown",
   "metadata": {},
   "source": [
    "In this project, we opted to handle missing values by calculating or imputing them rather than dropping the rows or entries. This decision was motivated by several key considerations:\n",
    "\n",
    "1. Preserving Data Integrity\n",
    "    - Maximizing Data Utilization: By calculating or imputing missing values, we ensure that we make the most out of the available data. Dropping rows with missing values can lead to a significant loss of information, especially if the dataset is not very large.\n",
    "    - Maintaining Representativeness: Removing rows with missing values can introduce bias, as the remaining data may no longer be representative of the original dataset. By imputing missing values, we preserve the dataset's structure and distribution.\n",
    "\n",
    "2. Leveraging Domain Knowledge\n",
    "    - Informed Calculations: Many missing values can be calculated using existing domain knowledge and relationships between variables. For example, FG% (Field Goal Percentage) can be calculated from FG (Field Goals) and FGA (Field Goals Attempted). Similarly, TS% (True Shooting Percentage) can be derived from PTS (Points), FGA, and FTA (Free Throw Attempts). Utilizing these relationships allows us to fill in missing values accurately.\n",
    "    - Handling Edge Cases: By explicitly handling cases where the respective columns are zero, we ensure that our calculations are robust and avoid division by zero errors. This careful handling maintains the integrity of the calculated values."
   ]
  },
  {
   "cell_type": "markdown",
   "metadata": {},
   "source": [
    "Since `FA` and `FGA` don't have any missing values then `FG%` can be calculated."
   ]
  },
  {
   "cell_type": "code",
   "execution_count": 74,
   "metadata": {},
   "outputs": [],
   "source": [
    "# Field Goal Percentage Missing Value\n",
    "\n",
    "# Calculate FG% where possible\n",
    "df_stats_copy['FG%'] = df_stats_copy.apply(\n",
    "    lambda row: (row['FG'] / row['FGA'] * 100) if pd.isnull(row['FG%']) and not pd.isnull(row['FG']) and not pd.isnull(row['FGA']) and row['FGA'] != 0 else (0 if row['FG'] == 0 and row['FGA'] == 0 else row['FG%']), \n",
    "    axis=1\n",
    ")"
   ]
  },
  {
   "cell_type": "markdown",
   "metadata": {},
   "source": [
    "Calculating value for missing `3P` value if `3PA` & `3P%` are valid."
   ]
  },
  {
   "cell_type": "code",
   "execution_count": 75,
   "metadata": {},
   "outputs": [],
   "source": [
    "# 3P Missing Value\n",
    "\n",
    "# Calculate 3P where possible\n",
    "df_stats_copy['3P'] = df_stats_copy.apply(\n",
    "    lambda row: (row['3PA'] * (row['3P%'] / 100)) if pd.isnull(row['3P']) and not pd.isnull(row['3PA']) and not pd.isnull(row['3P%']) and row['3PA'] != 0 else row['3P'], \n",
    "    axis=1\n",
    ")"
   ]
  },
  {
   "cell_type": "markdown",
   "metadata": {},
   "source": [
    "Since `3P` and `3PA` don't have any missing values then the `3P%` can be calculated."
   ]
  },
  {
   "cell_type": "code",
   "execution_count": 76,
   "metadata": {},
   "outputs": [],
   "source": [
    "# 3-Point Field Goal Percentage Missing Value\n",
    "\n",
    "# Calculate 3P% where possible\n",
    "df_stats_copy['3P%'] = df_stats_copy.apply(\n",
    "    lambda row: (row['3P'] / row['3PA'] * 100) if pd.isnull(row['3P%']) and not pd.isnull(row['3P']) and not pd.isnull(row['3PA']) and row['3PA'] != 0 else (0 if row['3P'] == 0 and row['3PA'] == 0 else row['3P%']), \n",
    "    axis=1\n",
    ")"
   ]
  },
  {
   "cell_type": "markdown",
   "metadata": {},
   "source": [
    "Since `2P` and `2PA` don't have missing values then `2P%` can be calculated."
   ]
  },
  {
   "cell_type": "code",
   "execution_count": 77,
   "metadata": {},
   "outputs": [],
   "source": [
    "# 2-Point Field Goal Percentage Missing Value\n",
    "\n",
    "# Calculate 3P% where possible\n",
    "df_stats_copy['2P%'] = df_stats_copy.apply(\n",
    "    lambda row: (row['2P'] / row['2PA'] * 100) if pd.isnull(row['3P%']) and not pd.isnull(row['2P']) and not pd.isnull(row['2PA']) and row['2PA'] != 0 else (0 if row['2P'] == 0 and row['2PA'] == 0 else row['3P%']), \n",
    "    axis=1\n",
    ")"
   ]
  },
  {
   "cell_type": "markdown",
   "metadata": {},
   "source": [
    "The effective field goal percentage `(eFG%)` adjusts field goal percentage to account for the extra value of a 3-point field goal:\n",
    "\n",
    "$$\n",
    "eFG\\% = \\frac{FG + 0.5 \\times 3P}{FGA}\n",
    "$$\n",
    "\n",
    "where:\n",
    "- \\( FG \\) = Field Goals Made\n",
    "- \\( 3P \\) = Three-Point Field Goals Made\n",
    "- \\( FGA \\) = Field Goal Attempts"
   ]
  },
  {
   "cell_type": "code",
   "execution_count": 78,
   "metadata": {},
   "outputs": [],
   "source": [
    "# Calculate eFG% where possible\n",
    "df_stats_copy['eFG%'] = df_stats_copy.apply(\n",
    "    lambda row: ((row['FG'] + 0.5 * row['3P']) / row['FGA'] * 100) if pd.isnull(row['eFG%']) and not pd.isnull(row['FG']) and not pd.isnull(row['3P']) and not pd.isnull(row['FGA']) and row['FGA'] != 0 else (0 if row['FGA'] == 0 else row['eFG%']), \n",
    "    axis=1\n",
    ")"
   ]
  },
  {
   "cell_type": "markdown",
   "metadata": {},
   "source": [
    "Since `FT` & `FTA` don't have any missing values then `FT%` can be calculated."
   ]
  },
  {
   "cell_type": "code",
   "execution_count": 79,
   "metadata": {},
   "outputs": [],
   "source": [
    "# Free Throw Percentage Missing Value\n",
    "\n",
    "# Calculate FT% where possible\n",
    "df_stats_copy['FT%'] = df_stats_copy.apply(\n",
    "    lambda row: (row['FT'] / row['FTA'] * 100) if pd.isnull(row['FT%']) and not pd.isnull(row['FT']) and not pd.isnull(row['FTA']) and row['FTA'] != 0 else (0 if row['FT'] == 0 and row['FTA'] == 0 else row['FT%']), \n",
    "    axis=1\n",
    ")"
   ]
  },
  {
   "cell_type": "markdown",
   "metadata": {},
   "source": [
    "The true shooting percentage `(TS%)` measures scoring efficiency by incorporating field goals, free throws, and three-pointers:\n",
    "\n",
    "$$\n",
    "TS\\% = \\frac{0.5 \\times \\text{PTS}}{\\text{FGA} + 0.44 \\times \\text{FTA}}\n",
    "$$\n",
    "\n",
    "where:\n",
    "- \\( PTS \\) = Total Points Scored Per Game\n",
    "- \\( FGA \\) = Total Field Goal Attempts\n",
    "- \\( FTA \\) = Total Free Throw Attempts\n"
   ]
  },
  {
   "cell_type": "code",
   "execution_count": 81,
   "metadata": {},
   "outputs": [],
   "source": [
    "# Calculate TS% where possible using the specified formula\n",
    "df_stats_copy['TS%'] = df_stats_copy.apply(\n",
    "    lambda row: (0.5 * row['PTS'] / (row['FGA'] + 0.44 * row['FTA']) * 100) if pd.isnull(row['TS%']) and not pd.isnull(row['PTS']) and not pd.isnull(row['FGA']) and not pd.isnull(row['FTA']) and (row['FGA'] + 0.44 * row['FTA']) != 0 else (0 if (row['FGA'] + 0.44 * row['FTA']) == 0 else row['TS%']), \n",
    "    axis=1\n",
    ")"
   ]
  },
  {
   "cell_type": "markdown",
   "metadata": {},
   "source": [
    "The `3PAr` (3-Point Attempt Rate) can be calculated using the formula:\n",
    "\n",
    "$$\n",
    "3PAr = \\frac{3PA}{FGA}\n",
    "$$\n",
    "\n",
    "where:\n",
    "- \\( 3PA \\) = 3-Point Field Goal Attempts Per Game\n",
    "- \\( FGA \\) = Total Field Goal Attempts Per Game"
   ]
  },
  {
   "cell_type": "code",
   "execution_count": 82,
   "metadata": {},
   "outputs": [],
   "source": [
    "# Calculate 3PAr where possible\n",
    "df_stats_copy['3PAr'] = df_stats_copy.apply(\n",
    "    lambda row: (row['3PA'] / row['FGA']) if pd.isnull(row['3PAr']) and not pd.isnull(row['3PA']) and not pd.isnull(row['FGA']) and row['FGA'] != 0 else (0 if row['FGA'] == 0 else row['3PAr']), \n",
    "    axis=1\n",
    ")"
   ]
  },
  {
   "cell_type": "markdown",
   "metadata": {},
   "source": [
    "The `FTr` (Free Throw Rate) can be calculated using the formula:\n",
    "\n",
    "$$\n",
    "FTr = \\frac{FTA}{FGA}\n",
    "$$\n",
    "\n",
    "where:\n",
    "- \\( FTA \\) = Free Throw Attempts Per Game\n",
    "- \\( FGA \\) = Total Field Goal Attempts Per Game"
   ]
  },
  {
   "cell_type": "code",
   "execution_count": 83,
   "metadata": {},
   "outputs": [],
   "source": [
    "# Calculate FTr where possible\n",
    "df_stats_copy['FTr'] = df_stats_copy.apply(\n",
    "    lambda row: (row['FTA'] / row['FGA']) if pd.isnull(row['FTr']) and not pd.isnull(row['FTA']) and not pd.isnull(row['FGA']) and row['FGA'] != 0 else (0 if row['FGA'] == 0 else row['FTr']), \n",
    "    axis=1\n",
    ")"
   ]
  },
  {
   "cell_type": "markdown",
   "metadata": {},
   "source": [
    "Final check of missing values."
   ]
  },
  {
   "cell_type": "code",
   "execution_count": 84,
   "metadata": {},
   "outputs": [
    {
     "data": {
      "text/plain": [
       "Rank             0\n",
       "Player Name      0\n",
       "Salary           0\n",
       "Position         0\n",
       "Age              0\n",
       "Team             0\n",
       "GP               0\n",
       "GS               0\n",
       "MP               0\n",
       "FG               0\n",
       "FGA              0\n",
       "FG%              0\n",
       "3P               0\n",
       "3PA              0\n",
       "3P%              0\n",
       "2P               0\n",
       "2PA              0\n",
       "2P%              0\n",
       "eFG%             0\n",
       "FT               0\n",
       "FTA              0\n",
       "FT%              0\n",
       "ORB              0\n",
       "DRB              0\n",
       "TRB              0\n",
       "AST              0\n",
       "STL              0\n",
       "BLK              0\n",
       "TOV              0\n",
       "PF               0\n",
       "PTS              0\n",
       "Total Minutes    0\n",
       "PER              0\n",
       "TS%              0\n",
       "3PAr             0\n",
       "FTr              0\n",
       "ORB%             0\n",
       "DRB%             0\n",
       "TRB%             0\n",
       "AST%             0\n",
       "STL%             0\n",
       "BLK%             0\n",
       "TOV%             0\n",
       "USG%             0\n",
       "OWS              0\n",
       "DWS              0\n",
       "WS               0\n",
       "WS/48            0\n",
       "OBPM             0\n",
       "DBPM             0\n",
       "BPM              0\n",
       "VORP             0\n",
       "dtype: int64"
      ]
     },
     "execution_count": 84,
     "metadata": {},
     "output_type": "execute_result"
    }
   ],
   "source": [
    "df_stats_copy.isnull().sum()"
   ]
  }
 ],
 "metadata": {
  "kernelspec": {
   "display_name": "Python 3",
   "language": "python",
   "name": "python3"
  },
  "language_info": {
   "codemirror_mode": {
    "name": "ipython",
    "version": 3
   },
   "file_extension": ".py",
   "mimetype": "text/x-python",
   "name": "python",
   "nbconvert_exporter": "python",
   "pygments_lexer": "ipython3",
   "version": "3.10.5"
  }
 },
 "nbformat": 4,
 "nbformat_minor": 2
}
