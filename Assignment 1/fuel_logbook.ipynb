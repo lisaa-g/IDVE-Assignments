{
 "cells": [
  {
   "cell_type": "markdown",
   "metadata": {},
   "source": [
    "# COMS4060A - Introduction of Data Visualisation & Exploration: Assignment 1 \n",
    "\n",
    "## Group Members\n",
    "* Lisa Godiwn - 2437980\n",
    "* Nihal Ranchod - 2427378\n",
    "* Zach Schwark - 2434346"
   ]
  }
 ],
 "metadata": {
  "kernelspec": {
   "display_name": "Python 3",
   "language": "python",
   "name": "python3"
  },
  "language_info": {
   "name": "python",
   "version": "3.10.5"
  }
 },
 "nbformat": 4,
 "nbformat_minor": 2
}
