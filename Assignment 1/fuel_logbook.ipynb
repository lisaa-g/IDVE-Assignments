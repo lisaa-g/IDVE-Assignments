{
 "cells": [
  {
   "cell_type": "markdown",
   "metadata": {},
   "source": [
    "# COMS4060A - Introduction of Data Visualisation & Exploration: Assignment 1 \n",
    "\n",
    "## Group Members\n",
    "* Lisa Godiwn - 2437980\n",
    "* Nihal Ranchod - 2427378\n",
    "* Zach Schwark - 2434346"
   ]
  },
  {
   "cell_type": "code",
   "execution_count": 2,
   "metadata": {},
   "outputs": [],
   "source": [
    "import numpy as np\n",
    "import pandas as pd\n",
    "import matplotlib as plt\n",
    "import seaborn as sns"
   ]
  },
  {
   "cell_type": "markdown",
   "metadata": {},
   "source": [
    "### Question 1: Data Cleaning"
   ]
  },
  {
   "cell_type": "code",
   "execution_count": 12,
   "metadata": {},
   "outputs": [
    {
     "name": "stderr",
     "output_type": "stream",
     "text": [
      "C:\\Users\\nihal\\AppData\\Local\\Temp\\ipykernel_26848\\1622968875.py:1: DtypeWarning: Columns (3,6) have mixed types. Specify dtype option on import or set low_memory=False.\n",
      "  df = pd.read_csv('logbook_assignment1.csv')\n"
     ]
    },
    {
     "data": {
      "text/html": [
       "<div>\n",
       "<style scoped>\n",
       "    .dataframe tbody tr th:only-of-type {\n",
       "        vertical-align: middle;\n",
       "    }\n",
       "\n",
       "    .dataframe tbody tr th {\n",
       "        vertical-align: top;\n",
       "    }\n",
       "\n",
       "    .dataframe thead th {\n",
       "        text-align: right;\n",
       "    }\n",
       "</style>\n",
       "<table border=\"1\" class=\"dataframe\">\n",
       "  <thead>\n",
       "    <tr style=\"text-align: right;\">\n",
       "      <th></th>\n",
       "      <th>date_fueled</th>\n",
       "      <th>date_captured</th>\n",
       "      <th>odometer</th>\n",
       "      <th>gallons</th>\n",
       "      <th>cost_per_gallon</th>\n",
       "      <th>total_spent</th>\n",
       "      <th>mpg</th>\n",
       "      <th>miles</th>\n",
       "      <th>user_url</th>\n",
       "    </tr>\n",
       "  </thead>\n",
       "  <tbody>\n",
       "    <tr>\n",
       "      <th>0</th>\n",
       "      <td>Cooling System, Heating System, Lights, Spark ...</td>\n",
       "      <td>Apr 7 2022</td>\n",
       "      <td>73,370</td>\n",
       "      <td>NaN</td>\n",
       "      <td>NaN</td>\n",
       "      <td>NaN</td>\n",
       "      <td>NaN</td>\n",
       "      <td>NaN</td>\n",
       "      <td>https://www.somewebsite.com/suzuki/swift/2015/...</td>\n",
       "    </tr>\n",
       "    <tr>\n",
       "      <th>1</th>\n",
       "      <td>Nov 7 2012</td>\n",
       "      <td>Aug 30 2016</td>\n",
       "      <td>11,983</td>\n",
       "      <td>12.120</td>\n",
       "      <td>$5.599</td>\n",
       "      <td>$67.86</td>\n",
       "      <td>31.6</td>\n",
       "      <td>NaN</td>\n",
       "      <td>https://www.somewebsite.com/bmw/x3/2009/461150</td>\n",
       "    </tr>\n",
       "    <tr>\n",
       "      <th>2</th>\n",
       "      <td>Sep 22 2012</td>\n",
       "      <td>Sep 28 2012</td>\n",
       "      <td>98,233</td>\n",
       "      <td>7.991</td>\n",
       "      <td>£5.45</td>\n",
       "      <td>£43.53</td>\n",
       "      <td>28.5</td>\n",
       "      <td>NaN</td>\n",
       "      <td>https://www.somewebsite.com/mercedes-benz/e300...</td>\n",
       "    </tr>\n",
       "    <tr>\n",
       "      <th>3</th>\n",
       "      <td>May 4 2019</td>\n",
       "      <td>May 4 2019</td>\n",
       "      <td>163,802</td>\n",
       "      <td>10.575</td>\n",
       "      <td>£5.11</td>\n",
       "      <td>£54.00</td>\n",
       "      <td>46.8</td>\n",
       "      <td>NaN</td>\n",
       "      <td>https://www.somewebsite.com/bmw/320d/2010/247233</td>\n",
       "    </tr>\n",
       "    <tr>\n",
       "      <th>4</th>\n",
       "      <td>Feb 15 2022</td>\n",
       "      <td>Feb 15 2022</td>\n",
       "      <td>NaN</td>\n",
       "      <td>11.651</td>\n",
       "      <td>$3.029</td>\n",
       "      <td>$35.29</td>\n",
       "      <td>21.0</td>\n",
       "      <td>244.4</td>\n",
       "      <td>https://www.somewebsite.com/honda/passport/201...</td>\n",
       "    </tr>\n",
       "  </tbody>\n",
       "</table>\n",
       "</div>"
      ],
      "text/plain": [
       "                                         date_fueled date_captured  odometer  \\\n",
       "0  Cooling System, Heating System, Lights, Spark ...    Apr 7 2022   73,370    \n",
       "1                                         Nov 7 2012   Aug 30 2016   11,983    \n",
       "2                                        Sep 22 2012   Sep 28 2012   98,233    \n",
       "3                                         May 4 2019    May 4 2019  163,802    \n",
       "4                                        Feb 15 2022   Feb 15 2022       NaN   \n",
       "\n",
       "  gallons cost_per_gallon total_spent   mpg    miles  \\\n",
       "0     NaN             NaN         NaN   NaN      NaN   \n",
       "1  12.120          $5.599      $67.86  31.6      NaN   \n",
       "2   7.991           £5.45      £43.53  28.5      NaN   \n",
       "3  10.575           £5.11      £54.00  46.8      NaN   \n",
       "4  11.651          $3.029      $35.29  21.0   244.4    \n",
       "\n",
       "                                            user_url  \n",
       "0  https://www.somewebsite.com/suzuki/swift/2015/...  \n",
       "1     https://www.somewebsite.com/bmw/x3/2009/461150  \n",
       "2  https://www.somewebsite.com/mercedes-benz/e300...  \n",
       "3   https://www.somewebsite.com/bmw/320d/2010/247233  \n",
       "4  https://www.somewebsite.com/honda/passport/201...  "
      ]
     },
     "execution_count": 12,
     "metadata": {},
     "output_type": "execute_result"
    }
   ],
   "source": [
    "df = pd.read_csv('logbook_assignment1.csv')\n",
    "\n",
    "# View initial first few rows\n",
    "df.head()\n"
   ]
  },
  {
   "cell_type": "markdown",
   "metadata": {},
   "source": [
    "[1.1] Date Fields: 1. Identify what percentage of date_fueled entries that are not proper dates.\n",
    "* Checking valid date for any order of 'mmm dd yyyy'"
   ]
  },
  {
   "cell_type": "code",
   "execution_count": 26,
   "metadata": {},
   "outputs": [
    {
     "name": "stderr",
     "output_type": "stream",
     "text": [
      "C:\\Users\\nihal\\AppData\\Roaming\\Python\\Python310\\site-packages\\dateutil\\parser\\_parser.py:1207: UnknownTimezoneWarning: tzname H identified but not understood.  Pass `tzinfos` argument in order to correctly return a timezone-aware datetime.  In a future version, this will raise an exception.\n",
      "  warnings.warn(\"tzname {tzname} identified but not understood.  \"\n"
     ]
    },
    {
     "name": "stdout",
     "output_type": "stream",
     "text": [
      "Total entries: 1174870\n",
      "Improper date entries: 135126\n",
      "Percentage of improper dates: 11.50%\n"
     ]
    }
   ],
   "source": [
    "from dateutil.parser import parse\n",
    "\n",
    "# Function to check if a string is a valid date\n",
    "def is_valid_date(date_str):\n",
    "    if isinstance(date_str, str) and date_str.strip():\n",
    "        try:\n",
    "            parse(date_str, fuzzy=False) # fuzzy paramter ensures that the parsing is strict and does not allow partial matches.\n",
    "            return True\n",
    "        except ValueError:\n",
    "            return False\n",
    "    return False\n",
    "\n",
    "# Apply the function to the date_fueled column\n",
    "df['is_valid_date'] = df['date_fueled'].apply(is_valid_date)\n",
    "\n",
    "# Calculate the percentage of improper dates\n",
    "total_entries = len(df)\n",
    "improper_dates_count = df['is_valid_date'].value_counts().get(False, 0)\n",
    "percentage_improper_dates = (improper_dates_count / total_entries) * 100\n",
    "\n",
    "print(f\"Total entries: {total_entries}\")\n",
    "print(f\"Improper date entries: {improper_dates_count}\")\n",
    "print(f\"Percentage of improper dates: {percentage_improper_dates:.2f}%\")"
   ]
  },
  {
   "cell_type": "markdown",
   "metadata": {},
   "source": [
    "[1.1] Date Fields: 2. If date fueled is not entered correctly (or is not a date), and the date\n",
    "captured is a valid date, then fill in this value as a proxy."
   ]
  },
  {
   "cell_type": "code",
   "execution_count": 28,
   "metadata": {},
   "outputs": [
    {
     "name": "stderr",
     "output_type": "stream",
     "text": [
      "C:\\Users\\nihal\\AppData\\Roaming\\Python\\Python310\\site-packages\\dateutil\\parser\\_parser.py:1207: UnknownTimezoneWarning: tzname H identified but not understood.  Pass `tzinfos` argument in order to correctly return a timezone-aware datetime.  In a future version, this will raise an exception.\n",
      "  warnings.warn(\"tzname {tzname} identified but not understood.  \"\n",
      "C:\\Users\\nihal\\AppData\\Roaming\\Python\\Python310\\site-packages\\dateutil\\parser\\_parser.py:1207: UnknownTimezoneWarning: tzname H identified but not understood.  Pass `tzinfos` argument in order to correctly return a timezone-aware datetime.  In a future version, this will raise an exception.\n",
      "  warnings.warn(\"tzname {tzname} identified but not understood.  \"\n"
     ]
    },
    {
     "name": "stdout",
     "output_type": "stream",
     "text": [
      "Total entries: 1174870\n",
      "Improper date entries: 0\n",
      "Percentage of improper dates: 0.00%\n"
     ]
    }
   ],
   "source": [
    "# Function to fill in date_fueled with date_captured if date_fueled is invalid\n",
    "def fill_invalid_date(row):\n",
    "    if not is_valid_date(row['date_fueled']):\n",
    "        if is_valid_date(row['date_captured']):\n",
    "            return row['date_captured']\n",
    "    return row['date_fueled']\n",
    "\n",
    "# Apply the function to the DataFrame\n",
    "df['date_fueled'] = df.apply(fill_invalid_date, axis=1)\n",
    "\n",
    "# Apply the function to check if the date_fueled is valid\n",
    "df['is_valid_date'] = df['date_fueled'].apply(is_valid_date)\n",
    "\n",
    "# Calculate the percentage of improper dates\n",
    "total_entries = len(df)\n",
    "improper_dates_count = df['is_valid_date'].value_counts().get(False, 0)\n",
    "percentage_improper_dates = (improper_dates_count / total_entries) * 100\n",
    "\n",
    "# Output the results\n",
    "print(f\"Total entries: {total_entries}\")\n",
    "print(f\"Improper date entries: {improper_dates_count}\")\n",
    "print(f\"Percentage of improper dates: {percentage_improper_dates:.2f}%\")"
   ]
  },
  {
   "cell_type": "markdown",
   "metadata": {},
   "source": [
    "[1.1] Date Fields: 3. Convert the column to a date format, setting any invalid date fueled entries\n",
    "to NaT."
   ]
  },
  {
   "cell_type": "code",
   "execution_count": 30,
   "metadata": {},
   "outputs": [
    {
     "name": "stderr",
     "output_type": "stream",
     "text": [
      "C:\\Users\\nihal\\AppData\\Roaming\\Python\\Python310\\site-packages\\dateutil\\parser\\_parser.py:1207: UnknownTimezoneWarning: tzname H identified but not understood.  Pass `tzinfos` argument in order to correctly return a timezone-aware datetime.  In a future version, this will raise an exception.\n",
      "  warnings.warn(\"tzname {tzname} identified but not understood.  \"\n"
     ]
    },
    {
     "data": {
      "text/html": [
       "<div>\n",
       "<style scoped>\n",
       "    .dataframe tbody tr th:only-of-type {\n",
       "        vertical-align: middle;\n",
       "    }\n",
       "\n",
       "    .dataframe tbody tr th {\n",
       "        vertical-align: top;\n",
       "    }\n",
       "\n",
       "    .dataframe thead th {\n",
       "        text-align: right;\n",
       "    }\n",
       "</style>\n",
       "<table border=\"1\" class=\"dataframe\">\n",
       "  <thead>\n",
       "    <tr style=\"text-align: right;\">\n",
       "      <th></th>\n",
       "      <th>date_fueled</th>\n",
       "      <th>date_captured</th>\n",
       "      <th>odometer</th>\n",
       "      <th>gallons</th>\n",
       "      <th>cost_per_gallon</th>\n",
       "      <th>total_spent</th>\n",
       "      <th>mpg</th>\n",
       "      <th>miles</th>\n",
       "      <th>user_url</th>\n",
       "      <th>is_valid_date</th>\n",
       "    </tr>\n",
       "  </thead>\n",
       "  <tbody>\n",
       "    <tr>\n",
       "      <th>0</th>\n",
       "      <td>2022-04-07</td>\n",
       "      <td>Apr 7 2022</td>\n",
       "      <td>73,370</td>\n",
       "      <td>NaN</td>\n",
       "      <td>NaN</td>\n",
       "      <td>NaN</td>\n",
       "      <td>NaN</td>\n",
       "      <td>NaN</td>\n",
       "      <td>https://www.somewebsite.com/suzuki/swift/2015/...</td>\n",
       "      <td>True</td>\n",
       "    </tr>\n",
       "    <tr>\n",
       "      <th>1</th>\n",
       "      <td>2012-11-07</td>\n",
       "      <td>Aug 30 2016</td>\n",
       "      <td>11,983</td>\n",
       "      <td>12.120</td>\n",
       "      <td>$5.599</td>\n",
       "      <td>$67.86</td>\n",
       "      <td>31.6</td>\n",
       "      <td>NaN</td>\n",
       "      <td>https://www.somewebsite.com/bmw/x3/2009/461150</td>\n",
       "      <td>True</td>\n",
       "    </tr>\n",
       "    <tr>\n",
       "      <th>2</th>\n",
       "      <td>2012-09-22</td>\n",
       "      <td>Sep 28 2012</td>\n",
       "      <td>98,233</td>\n",
       "      <td>7.991</td>\n",
       "      <td>£5.45</td>\n",
       "      <td>£43.53</td>\n",
       "      <td>28.5</td>\n",
       "      <td>NaN</td>\n",
       "      <td>https://www.somewebsite.com/mercedes-benz/e300...</td>\n",
       "      <td>True</td>\n",
       "    </tr>\n",
       "    <tr>\n",
       "      <th>3</th>\n",
       "      <td>2019-05-04</td>\n",
       "      <td>May 4 2019</td>\n",
       "      <td>163,802</td>\n",
       "      <td>10.575</td>\n",
       "      <td>£5.11</td>\n",
       "      <td>£54.00</td>\n",
       "      <td>46.8</td>\n",
       "      <td>NaN</td>\n",
       "      <td>https://www.somewebsite.com/bmw/320d/2010/247233</td>\n",
       "      <td>True</td>\n",
       "    </tr>\n",
       "    <tr>\n",
       "      <th>4</th>\n",
       "      <td>2022-02-15</td>\n",
       "      <td>Feb 15 2022</td>\n",
       "      <td>NaN</td>\n",
       "      <td>11.651</td>\n",
       "      <td>$3.029</td>\n",
       "      <td>$35.29</td>\n",
       "      <td>21.0</td>\n",
       "      <td>244.4</td>\n",
       "      <td>https://www.somewebsite.com/honda/passport/201...</td>\n",
       "      <td>True</td>\n",
       "    </tr>\n",
       "  </tbody>\n",
       "</table>\n",
       "</div>"
      ],
      "text/plain": [
       "  date_fueled date_captured  odometer gallons cost_per_gallon total_spent  \\\n",
       "0  2022-04-07    Apr 7 2022   73,370      NaN             NaN         NaN   \n",
       "1  2012-11-07   Aug 30 2016   11,983   12.120          $5.599      $67.86   \n",
       "2  2012-09-22   Sep 28 2012   98,233    7.991           £5.45      £43.53   \n",
       "3  2019-05-04    May 4 2019  163,802   10.575           £5.11      £54.00   \n",
       "4  2022-02-15   Feb 15 2022       NaN  11.651          $3.029      $35.29   \n",
       "\n",
       "    mpg    miles                                           user_url  \\\n",
       "0   NaN      NaN  https://www.somewebsite.com/suzuki/swift/2015/...   \n",
       "1  31.6      NaN     https://www.somewebsite.com/bmw/x3/2009/461150   \n",
       "2  28.5      NaN  https://www.somewebsite.com/mercedes-benz/e300...   \n",
       "3  46.8      NaN   https://www.somewebsite.com/bmw/320d/2010/247233   \n",
       "4  21.0   244.4   https://www.somewebsite.com/honda/passport/201...   \n",
       "\n",
       "   is_valid_date  \n",
       "0           True  \n",
       "1           True  \n",
       "2           True  \n",
       "3           True  \n",
       "4           True  "
      ]
     },
     "execution_count": 30,
     "metadata": {},
     "output_type": "execute_result"
    }
   ],
   "source": [
    "# Convert the date_fueled column to datetime, setting invalid entries to NaT\n",
    "df['date_fueled'] = pd.to_datetime(df['date_fueled'], errors='coerce')\n",
    "\n",
    "# Output the DataFrame to see the changes\n",
    "df.head()"
   ]
  }
 ],
 "metadata": {
  "kernelspec": {
   "display_name": "Python 3",
   "language": "python",
   "name": "python3"
  },
  "language_info": {
   "codemirror_mode": {
    "name": "ipython",
    "version": 3
   },
   "file_extension": ".py",
   "mimetype": "text/x-python",
   "name": "python",
   "nbconvert_exporter": "python",
   "pygments_lexer": "ipython3",
   "version": "3.10.5"
  }
 },
 "nbformat": 4,
 "nbformat_minor": 2
}
