{
 "cells": [
  {
   "cell_type": "markdown",
   "metadata": {},
   "source": [
    "#### Question 3: Explainations"
   ]
  },
  {
   "cell_type": "markdown",
   "metadata": {},
   "source": [
    "##### [3.1]\n",
    "\n",
    "The United States of America, the United Kingdom and Countries in Europe contain the most unique users.\n",
    "\n",
    "##### [3.2]\n",
    "\n",
    "The app is most popular during the beginning of the month, specifically with in the first 10 days of the month.\n",
    "\n",
    "##### [3.3]\n",
    "\n",
    "*TODO - write explaination after I fix the code*\n",
    "\n",
    "Ford, Toyota, BMW, Nissan and Volkswagen are the most popular car makes.\n",
    "The most popular car models are the mustang, F-150, Land Cruiser, Civic and Corolla. "
   ]
  },
  {
   "cell_type": "markdown",
   "metadata": {},
   "source": [
    "#### Question 4.3: Explainations\n",
    "\n",
    "##### [4.3.2]\n",
    "\n",
    "The fuel price has generally increased over time in SA, with ther being certain peaks and dips in the price. Specifically the price peaked in 2014, beginning of 2016, 2019 and again in 2022. The price also dipped in 2015, 2016, 2017, 2019 and late 2020 /2021.\n",
    "\n",
    "##### [4.3.3]\n",
    "More people refueled on a tuesday than any other day.\n",
    "\n",
    "*below is code to replace the bar graph for 4.3.3, this new graph compares each day seperately*\n",
    "\n",
    "##### [4.3.6]\n",
    "\n",
    "No, more people do not refuel on the first wednesday of the month when th rprice foes down.\n",
    "\n",
    "##### [4.3.7]\n",
    "\n",
    "Yes, more people refuel on a tuesday when the price goes up.\n",
    "\n"
   ]
  },
  {
   "cell_type": "code",
   "execution_count": null,
   "metadata": {},
   "outputs": [],
   "source": [
    "# weekday = 1 is Tuesday\n",
    "tuesday_df = south_african_drivers_df[south_african_drivers_df[\"date_fueled\"].dt.weekday == 1]\n",
    "tuesday_count = tuesday_df[\"user_url\"].count()\n",
    "\n",
    "monday_df = south_african_drivers_df[south_african_drivers_df[\"date_fueled\"].dt.weekday == 0]\n",
    "monday_count = monday_df[\"user_url\"].count()\n",
    "\n",
    "wednesday_df = south_african_drivers_df[south_african_drivers_df[\"date_fueled\"].dt.weekday == 2]\n",
    "wednesday_count = wednesday_df[\"user_url\"].count()\n",
    "\n",
    "thursday_df = south_african_drivers_df[south_african_drivers_df[\"date_fueled\"].dt.weekday == 3]\n",
    "thursday_count = thursday_df[\"user_url\"].count()\n",
    "\n",
    "friday_df = south_african_drivers_df[south_african_drivers_df[\"date_fueled\"].dt.weekday == 4]\n",
    "friday_count = friday_df[\"user_url\"].count()\n",
    "\n",
    "saturday_df = south_african_drivers_df[south_african_drivers_df[\"date_fueled\"].dt.weekday == 5]\n",
    "saturday_count = saturday_df[\"user_url\"].count()\n",
    "\n",
    "sunday_df = south_african_drivers_df[south_african_drivers_df[\"date_fueled\"].dt.weekday == 6]\n",
    "sunday_count = sunday_df[\"user_url\"].count()\n",
    "\n",
    "days = [\"Tuesday\", \"Monday\", \"Wednesday\", \"Thursday\", \"Friday\", \"Saturday\", \"Sunday\"]\n",
    "num_refueling_per_day = [tuesday_count, monday_count, wednesday_count, thursday_count, friday_count, saturday_count, sunday_count]\n",
    "\n",
    "plt.bar(days,num_refueling_per_day)"
   ]
  }
 ],
 "metadata": {
  "language_info": {
   "name": "python"
  }
 },
 "nbformat": 4,
 "nbformat_minor": 2
}
